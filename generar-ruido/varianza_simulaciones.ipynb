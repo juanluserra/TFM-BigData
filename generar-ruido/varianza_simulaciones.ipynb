{
 "cells": [
  {
   "cell_type": "markdown",
   "id": "920d22d1",
   "metadata": {},
   "source": [
    "# Notebook para comprobar la varianza de las simulaciones de Biran2"
   ]
  },
  {
   "cell_type": "code",
   "execution_count": 36,
   "id": "1ab120fe",
   "metadata": {},
   "outputs": [],
   "source": [
    "# Importamos las librerías necesarias\n",
    "import numpy as np\n",
    "import matplotlib.pyplot as plt\n",
    "from read_results_1 import read_results\n",
    "from plotting_Toellke import *\n",
    "from Event_detection_Toellke import *\n",
    "from pathlib import Path\n",
    "import os\n",
    "from brian2 import *\n",
    "\n",
    "# Calculamos la ruta a la carpeta del notebook\n",
    "notebook_folder = Path(os.getcwd())"
   ]
  },
  {
   "cell_type": "markdown",
   "id": "7a2b71a4",
   "metadata": {},
   "source": [
    "Nos guardamos todos los resultados de las simulaciones para poder analizarlos posteriormente."
   ]
  },
  {
   "cell_type": "code",
   "execution_count": 2,
   "id": "134062f6",
   "metadata": {},
   "outputs": [
    {
     "name": "stdout",
     "output_type": "stream",
     "text": [
      "Se han encontrado 10 archivos LFP.txt\n"
     ]
    }
   ],
   "source": [
    "# Localizamos la ruta de los resultados\n",
    "results_folder = notebook_folder.parent / \"results\" / \"healthy_validation\"\n",
    "\n",
    "# Cremaos una lista para almacenar los resultados\n",
    "lfp_data = []\n",
    "\n",
    "# Hacemos un bucle para recorrer todas las carpetas dentr de results_folder \n",
    "# y leer los archivos LFP.txt que hay dentro de las carpetas\n",
    "for folder in results_folder.iterdir():\n",
    "    if folder.is_dir():\n",
    "        # Leer los resultados del archivo LFP.txt\n",
    "        lfp = create_list_from_timeSeries(folder / \"LFP.txt\")\n",
    "        lfp_data.append(np.array(lfp))\n",
    "\n",
    "print(f\"Se han encontrado {len(lfp_data)} archivos LFP.txt\")"
   ]
  },
  {
   "cell_type": "code",
   "execution_count": 29,
   "id": "f3d5327e",
   "metadata": {},
   "outputs": [],
   "source": [
    "# Sacamos los datos de cada archivo LFP.txt\n",
    "event_data = []\n",
    "ripple_data = []\n",
    "psd_bands = []\n",
    "for lfp in lfp_data:\n",
    "    events, ripple, psd_band = event_detection(lfp)\n",
    "    event_data.append(events)\n",
    "    ripple_data.append(ripple)\n",
    "    psd_bands.append(psd_band)"
   ]
  },
  {
   "cell_type": "markdown",
   "id": "e89906b7",
   "metadata": {},
   "source": [
    "Vamos a analizar la variación en las bandas de densidad de potencia."
   ]
  },
  {
   "cell_type": "code",
   "execution_count": 66,
   "id": "dc65b699",
   "metadata": {},
   "outputs": [
    {
     "data": {
      "image/png": "[encoded data removed]",
      "text/plain": [
       "<Figure size 720x360 with 3 Axes>"
      ]
     },
     "metadata": {
      "needs_background": "light"
     },
     "output_type": "display_data"
    },
    {
     "data": {
      "image/png": "[encoded data removed]",
      "text/plain": [
       "<Figure size 720x360 with 3 Axes>"
      ]
     },
     "metadata": {
      "needs_background": "light"
     },
     "output_type": "display_data"
    }
   ],
   "source": [
    "# Comprobamos los resultados de psd_bands\n",
    "theta_bands = {\n",
    "    \"mean\": [],\n",
    "    \"std\": []\n",
    "}\n",
    "gamma_bands = {\n",
    "    \"mean\": [],\n",
    "    \"std\": []\n",
    "}\n",
    "ripple_bands = {\n",
    "    \"mean\": [],\n",
    "    \"std\": []\n",
    "}\n",
    "for psd_band in psd_bands:\n",
    "    # print([np.mean(x) for x in psd_band])\n",
    "    # print(len(psd_band))\n",
    "    \n",
    "    # Medias\n",
    "    theta_band, gamma_band, ripple_band = [np.mean(x) for x in psd_band]\n",
    "    theta_bands[\"mean\"].append(theta_band)\n",
    "    gamma_bands[\"mean\"].append(gamma_band)\n",
    "    ripple_bands[\"mean\"].append(ripple_band)\n",
    "    # Desviaciones estándar\n",
    "    theta_band_std, gamma_band_std, ripple_band_std = [np.std(x) for x in psd_band]\n",
    "    theta_bands[\"std\"].append(theta_band_std / np.sqrt(len(psd_band[0])))\n",
    "    gamma_bands[\"std\"].append(gamma_band_std / np.sqrt(len(psd_band[0])))\n",
    "    ripple_bands[\"std\"].append(ripple_band_std / np.sqrt(len(psd_band[0])))\n",
    "    \n",
    "# Representamos los resultados de las bandas de frecuencia\n",
    "fig, axs = plt.subplots(1, 3, figsize=(10, 5))\n",
    "# Banda Theta\n",
    "axs[0].set_yscale('log')\n",
    "axs[0].bar(\n",
    "    np.arange(len(theta_bands[\"mean\"])),\n",
    "    theta_bands[\"mean\"],\n",
    "    yerr=theta_bands[\"std\"],\n",
    "    error_kw={'zorder': 2}, zorder=3,\n",
    "    color=\"orange\"\n",
    ")\n",
    "axs[0].set_ylim(1e-13, 1e-10)\n",
    "axs[0].set_xticks(np.arange(len(theta_bands[\"mean\"])))\n",
    "axs[0].set_title(\"Banda Theta\")\n",
    "axs[0].set_ylabel(\"Potencia (log)\")\n",
    "axs[0].set_xlabel(\"Índice de la simulación\")\n",
    "# Banda Gamma\n",
    "axs[1].set_yscale('log')\n",
    "axs[1].bar(\n",
    "    np.arange(len(gamma_bands[\"mean\"])),\n",
    "    gamma_bands[\"mean\"],\n",
    "    yerr=gamma_bands[\"std\"],\n",
    "    error_kw={'zorder': 2}, zorder=3,\n",
    "    color=\"green\"\n",
    ")\n",
    "axs[1].set_ylim(1e-13, 1e-10)\n",
    "axs[1].set_xticks(np.arange(len(gamma_bands[\"mean\"])))\n",
    "axs[1].set_title(\"Banda Gamma\")\n",
    "axs[1].set_xlabel(\"Índice de la simulación\")\n",
    "# Banda Ripple\n",
    "axs[2].set_yscale('log')\n",
    "axs[2].bar(\n",
    "    np.arange(len(ripple_bands[\"mean\"])),\n",
    "    ripple_bands[\"mean\"],\n",
    "    yerr=ripple_bands[\"std\"],\n",
    "    error_kw={'zorder': 2}, zorder=3,\n",
    "    color=\"blue\"\n",
    ")\n",
    "axs[2].set_ylim(1e-13, 1e-10)\n",
    "axs[2].set_xticks(np.arange(len(ripple_bands[\"mean\"])))\n",
    "axs[2].set_xlabel(\"Índice de la simulación\")\n",
    "axs[2].set_title(\"Banda Ripple\")\n",
    "fig.tight_layout()\n",
    "plt.show()\n",
    "\n",
    "\n",
    "# Volvemos a realizar el gráfico pero con un gráfico de puntos y no te barras\n",
    "fig2, axs2 = plt.subplots(1, 3, figsize=(10, 5))\n",
    "# Banda Theta\n",
    "x_theta = np.arange(len(theta_bands[\"mean\"]))\n",
    "axs2[0].errorbar(\n",
    "    x_theta,\n",
    "    theta_bands[\"mean\"],\n",
    "    yerr=theta_bands[\"std\"],\n",
    "    fmt='o',\n",
    "    capsize=5,\n",
    "    color=\"orange\",\n",
    "    zorder=3\n",
    ")\n",
    "axs2[0].set_xticks(x_theta)\n",
    "axs2[0].set_title(\"Banda Theta\")\n",
    "axs2[0].set_ylabel(\"Potencia\")\n",
    "axs2[0].set_xlabel(\"Índice de la simulación\")\n",
    "# Banda Gamma\n",
    "x_gamma = np.arange(len(gamma_bands[\"mean\"]))\n",
    "axs2[1].errorbar(\n",
    "    x_gamma,\n",
    "    gamma_bands[\"mean\"],\n",
    "    yerr=gamma_bands[\"std\"],\n",
    "    fmt='o',\n",
    "    capsize=5,\n",
    "    color=\"green\",\n",
    "    zorder=3\n",
    ")\n",
    "axs2[1].set_xticks(x_gamma)\n",
    "axs2[1].set_title(\"Banda Gamma\")\n",
    "axs2[1].set_xlabel(\"Índice de la simulación\")\n",
    "# Banda Ripple\n",
    "x_ripple = np.arange(len(ripple_bands[\"mean\"]))\n",
    "axs2[2].errorbar(\n",
    "    x_ripple,\n",
    "    ripple_bands[\"mean\"],\n",
    "    yerr=ripple_bands[\"std\"],\n",
    "    fmt='o',\n",
    "    capsize=5,\n",
    "    color=\"blue\",\n",
    "    zorder=3\n",
    ")\n",
    "axs2[2].set_xticks(x_ripple)\n",
    "axs2[2].set_title(\"Banda Ripple\")\n",
    "axs2[2].set_xlabel(\"Índice de la simulación\")\n",
    "fig2.tight_layout()\n",
    "plt.show()"
   ]
  },
  {
   "cell_type": "markdown",
   "id": "4549c1af",
   "metadata": {},
   "source": [
    "Ahora analizaremos la variación en las frecuencias pico."
   ]
  },
  {
   "cell_type": "code",
   "execution_count": 73,
   "id": "516ea8c6",
   "metadata": {},
   "outputs": [
    {
     "data": {
      "image/png": "[encoded data removed]",
      "text/plain": [
       "<Figure size 720x360 with 2 Axes>"
      ]
     },
     "metadata": {
      "needs_background": "light"
     },
     "output_type": "display_data"
    }
   ],
   "source": [
    "events_pf = {\n",
    "    \"mean\": [],\n",
    "    \"std\": []\n",
    "}\n",
    "ripple_pf = {\n",
    "    \"mean\": [],\n",
    "    \"std\": []\n",
    "}\n",
    "for events, ripples in zip(event_data, ripple_data):\n",
    "    # Eventos\n",
    "    events_pf[\"mean\"].append(np.mean(events[2]))\n",
    "    events_pf[\"std\"].append(np.std(events[2]) / len(events[2]))\n",
    "    # Ripples\n",
    "    ripple_pf[\"mean\"].append(np.mean(ripples[1]))\n",
    "    ripple_pf[\"std\"].append(np.std(ripples[1]) / len(ripples[1]))\n",
    "\n",
    "# Representamos los resultados de las frecuencias pico\n",
    "fig3, axs3 = plt.subplots(1, 2, figsize=(10, 5))\n",
    "# Frecuencias pico de eventos\n",
    "axs3[0].errorbar(\n",
    "    np.arange(len(events_pf[\"mean\"])),\n",
    "    events_pf[\"mean\"],\n",
    "    yerr=events_pf[\"std\"],\n",
    "    fmt='o',\n",
    "    capsize=5,\n",
    "    color=\"blue\",\n",
    "    zorder=3\n",
    ")\n",
    "axs3[0].set_ylabel(\"Frecuencias pico de eventos\")\n",
    "axs3[0].set_xlabel(\"Índice de la simulación\")\n",
    "axs3[0].set_xticks(np.arange(len(events_pf[\"mean\"])))\n",
    "axs3[0].set_title(\"Frecuencias pico de eventos\")\n",
    "# Frecuencias pico de ripples\n",
    "axs3[1].errorbar(\n",
    "    np.arange(len(ripple_pf[\"mean\"])),\n",
    "    ripple_pf[\"mean\"],\n",
    "    yerr=ripple_pf[\"std\"],\n",
    "    fmt='o',\n",
    "    capsize=5,\n",
    "    color=\"green\",\n",
    "    zorder=3\n",
    ")\n",
    "axs3[1].set_ylabel(\"Frecuencias pico de ripples\")\n",
    "axs3[1].set_xlabel(\"Índice de la simulación\")\n",
    "axs3[1].set_xticks(np.arange(len(ripple_pf[\"mean\"])))\n",
    "axs3[1].set_title(\"Frecuencias pico de ripples\")\n",
    "fig3.tight_layout()\n",
    "plt.show()"
   ]
  },
  {
   "cell_type": "markdown",
   "id": "a33bffb3",
   "metadata": {},
   "source": [
    "Ahora vamos a analizar la variación del tiempo de duración de los ripples."
   ]
  },
  {
   "cell_type": "code",
   "execution_count": 77,
   "id": "8fd48576",
   "metadata": {},
   "outputs": [
    {
     "data": {
      "image/png": "[encoded data removed]",
      "text/plain": [
       "<Figure size 720x360 with 1 Axes>"
      ]
     },
     "metadata": {
      "needs_background": "light"
     },
     "output_type": "display_data"
    }
   ],
   "source": [
    "duration_ripples = {\n",
    "    \"mean\": [],\n",
    "    \"std\": []\n",
    "}\n",
    "\n",
    "for ripples in ripple_data:\n",
    "    # Duración de los ripples\n",
    "    duration_ripples[\"mean\"].append(np.mean(ripples[2]))\n",
    "    duration_ripples[\"std\"].append(np.std(ripples[2]) / len(ripples[2]))\n",
    "\n",
    "# Representamos los resultados de la duración de los ripples\n",
    "fig4, ax4 = plt.subplots(figsize=(10, 5))\n",
    "ax4.errorbar(\n",
    "    np.arange(len(duration_ripples[\"mean\"])),\n",
    "    duration_ripples[\"mean\"],\n",
    "    yerr=duration_ripples[\"std\"],\n",
    "    fmt='o',\n",
    "    capsize=5,\n",
    "    color=\"purple\",\n",
    "    zorder=3\n",
    ")\n",
    "ax4.set_ylabel(\"Duración de los ripples (s)\")\n",
    "ax4.set_xlabel(\"Índice de la simulación\")\n",
    "ax4.set_xticks(np.arange(len(duration_ripples[\"mean\"])))\n",
    "ax4.set_title(\"Duración de los ripples\")\n",
    "fig4.tight_layout()\n",
    "plt.show()"
   ]
  },
  {
   "cell_type": "code",
   "execution_count": null,
   "id": "49880f89",
   "metadata": {},
   "outputs": [],
   "source": []
  }
 ],
 "metadata": {
  "kernelspec": {
   "display_name": "hipp_sim",
   "language": "python",
   "name": "python3"
  },
  "language_info": {
   "codemirror_mode": {
    "name": "ipython",
    "version": 3
   },
   "file_extension": ".py",
   "mimetype": "text/x-python",
   "name": "python",
   "nbconvert_exporter": "python",
   "pygments_lexer": "ipython3",
   "version": "3.6.9"
  }
 },
 "nbformat": 4,
 "nbformat_minor": 5
}
